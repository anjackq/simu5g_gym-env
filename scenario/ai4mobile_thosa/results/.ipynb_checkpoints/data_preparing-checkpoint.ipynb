{
 "cells": [
  {
   "cell_type": "code",
   "execution_count": 1,
   "metadata": {
    "scrolled": true
   },
   "outputs": [],
   "source": [
    "import os, sys\n",
    "import subprocess\n",
    "from tqdm import tqdm\n",
    "import json\n",
    "import warnings\n",
    "import numpy as np\n",
    "import pandas as pd\n",
    "import matplotlib.pyplot as plt\n",
    "from scipy.optimize import curve_fit\n",
    "\n",
    "from datetime import date"
   ]
  },
  {
   "cell_type": "code",
   "execution_count": 2,
   "metadata": {},
   "outputs": [],
   "source": [
    "from lxml import etree\n",
    "import xml.etree.ElementTree as ET\n",
    "import traci"
   ]
  },
  {
   "cell_type": "code",
   "execution_count": 3,
   "metadata": {},
   "outputs": [],
   "source": [
    "## Definitions of some useful functions\n",
    "def parse_if_number(s):\n",
    "    try: return float(s)\n",
    "    except: return True if s==\"true\" else False if s==\"false\" else s if s else None\n",
    "def parse_ndarray(s):\n",
    "    return np.fromstring(s, sep=' ') if s else None\n",
    "## plotting the running average\n",
    "def running_avg(x):\n",
    "    return np.cumsum(x) / np.arange(1, x.size + 1)\n",
    "## plotting running time average\n",
    "def running_timeavg(t,x):\n",
    "    dt = t[1:] - t[:-1]\n",
    "    return np.cumsum(x[:-1] * dt) / t[1:]"
   ]
  },
  {
   "cell_type": "code",
   "execution_count": 4,
   "metadata": {},
   "outputs": [],
   "source": [
    "def interpolate_dataframe(x, df):\n",
    "    for n in range(df.shape[0]):\n",
    "        xp = df.iloc[n].vectime\n",
    "        fp = df.iloc[n].vecvalue\n",
    "        f = np.interp(x, xp, fp)\n",
    "        \n",
    "        df.iloc[n].vectime = x\n",
    "        df.iloc[n].vecvalue = f\n",
    "        \n",
    "    return df"
   ]
  },
  {
   "cell_type": "code",
   "execution_count": 5,
   "metadata": {},
   "outputs": [],
   "source": [
    "vec = pd.read_csv('VoIP-UL.high_traffic.vec.csv', converters = {\n",
    "                  'attrvalue': parse_if_number,\n",
    "                  'binedges': parse_ndarray,\n",
    "                  'binvalues': parse_ndarray,\n",
    "                  'vectime': parse_ndarray,\n",
    "                  'vecvalue': parse_ndarray})"
   ]
  },
  {
   "cell_type": "code",
   "execution_count": 6,
   "metadata": {},
   "outputs": [],
   "source": [
    "vec = vec.dropna(subset=['vecvalue'])"
   ]
  },
  {
   "cell_type": "code",
   "execution_count": 7,
   "metadata": {},
   "outputs": [],
   "source": [
    "gnodeb1 = vec.loc[vec.module.str.contains('THOSA_Highway.gNodeB1')]\n",
    "gnodeb2 = vec.loc[vec.module.str.contains('THOSA_Highway.gNodeB2')]"
   ]
  },
  {
   "cell_type": "code",
   "execution_count": 8,
   "metadata": {},
   "outputs": [],
   "source": [
    "channel = vec.loc[vec.module.str.contains('ChannelModel')]\n",
    "mobility = vec.loc[vec.module.str.contains('mobility')]\n",
    "car = vec.loc[vec.module.str.contains('car')]\n",
    "packet = car.loc[car.name.str.contains('Packet')]\n",
    "phy = car.loc[car.module.str.contains('Phy')]\n",
    "app = car.loc[car.module.str.contains('app')]\n",
    "mac = car.loc[car.module.str.contains('Mac')]"
   ]
  },
  {
   "cell_type": "code",
   "execution_count": 9,
   "metadata": {},
   "outputs": [],
   "source": [
    "# Filter out the vector size smaller than 2"
   ]
  },
  {
   "cell_type": "code",
   "execution_count": 10,
   "metadata": {},
   "outputs": [],
   "source": [
    "for n in range(car.shape[0]):\n",
    "    if car.iloc[n].vectime.size <= 1:\n",
    "        car.iloc[n].vecvalue = np.nan\n",
    "\n",
    "for n in range(channel.shape[0]):\n",
    "    if channel.iloc[n].vectime.size <= 1:\n",
    "        channel.iloc[n].vecvalue = np.nan\n",
    "        \n",
    "for n in range(mobility.shape[0]):\n",
    "    if mobility.iloc[n].vectime.size <= 1:\n",
    "        mobility.iloc[n].vecvalue = np.nan\n",
    "        \n",
    "for n in range(packet.shape[0]):\n",
    "    if packet.iloc[n].vectime.size <= 1:\n",
    "        packet.iloc[n].vecvalue = np.nan\n",
    "\n",
    "for n in range(phy.shape[0]):\n",
    "    if phy.iloc[n].vectime.size <= 1:\n",
    "        phy.iloc[n].vecvalue = np.nan\n",
    "        \n",
    "for n in range(app.shape[0]):\n",
    "    if app.iloc[n].vectime.size <= 1:\n",
    "        app.iloc[n].vecvalue = np.nan\n",
    "\n",
    "for n in range(mac.shape[0]):\n",
    "    if mac.iloc[n].vectime.size <= 1:\n",
    "        mac.iloc[n].vecvalue = np.nan"
   ]
  },
  {
   "cell_type": "code",
   "execution_count": 11,
   "metadata": {},
   "outputs": [],
   "source": [
    "car = car.dropna(subset=['vecvalue'])\n",
    "channel = channel.dropna(subset=['vecvalue'])\n",
    "mobility = mobility.dropna(subset=['vecvalue'])\n",
    "packet = packet.dropna(subset=['vecvalue'])\n",
    "phy = phy.dropna(subset=['vecvalue'])\n",
    "app = app.dropna(subset=['vecvalue'])\n",
    "mac = mac.dropna(subset=['vecvalue'])"
   ]
  },
  {
   "cell_type": "code",
   "execution_count": 12,
   "metadata": {},
   "outputs": [],
   "source": [
    "numCar = mobility.module.unique().size\n",
    "\n",
    "# create an empty dataframe\n",
    "df = pd.DataFrame(columns = [\n",
    "        'timeStep', 'vehId', \n",
    "        'lastPosX', 'lastPosY', 'lastVelocity', 'lastOrientation', 'distance',\n",
    "        'measuredSinrUl', 'measuredSinrDl', 'rcvdSinrUl', 'rcvdSinrDl',\n",
    "        'averageCqiUl', 'averageCqiDl', 'servingCell',\n",
    "        'voIPGeneratedThroughput',\n",
    "        'macDelayUl'\n",
    "    ])\n",
    "\n",
    "for vehId in range(numCar):\n",
    "    mobility_car = mobility.loc[mobility.module.str.contains('car\\[' + str(vehId) + '\\]')]\n",
    "    channel_car = channel.loc[channel.module.str.contains('car\\[' + str(vehId) + '\\]')]\n",
    "    phy_car = phy.loc[phy.module.str.contains('car\\[' + str(vehId) + '\\]')]\n",
    "    app_car = app.loc[app.module.str.contains('car\\[' + str(vehId) + '\\]')]\n",
    "    mac_car = mac.loc[mac.module.str.contains('car\\[' + str(vehId) + '\\]')]\n",
    "    \n",
    "    timeStep = mobility_car.iloc[0].vectime\n",
    "    \n",
    "    lastPosX = mobility_car.loc[mobility_car.name.str.contains('LastPosX')]\n",
    "    lastPosY = mobility_car.loc[mobility_car.name.str.contains('LastPosY')]\n",
    "    lastVelocity = mobility_car.loc[mobility_car.name.str.contains('LastVelocity')]\n",
    "    lastOrientation = mobility_car.loc[mobility_car.name.str.contains('LastOrientation')]\n",
    "    \n",
    "    measuredSinrUl = channel_car.loc[channel_car.name.str.contains('measuredSinrUl')]\n",
    "    measuredSinrDl = channel_car.loc[channel_car.name.str.contains('measuredSinrDl')]\n",
    "    rcvdSinrUl = channel_car.loc[channel_car.name.str.contains('rcvdSinrUl')]\n",
    "    rcvdSinrDl = channel_car.loc[channel_car.name.str.contains('rcvdSinrDl')]\n",
    "    distance = channel_car.loc[channel_car.name.str.contains('distance')]\n",
    "    \n",
    "    averageCqiUl = phy_car.loc[phy_car.name.str.contains('averageCqiUl')]\n",
    "    averageCqiDl = phy_car.loc[phy_car.name.str.contains('averageCqiDl')]\n",
    "    servingCell = phy_car.loc[phy_car.name.str.contains('servingCell')]\n",
    "    \n",
    "    voIPGeneratedThroughput = app_car.loc[app_car.name.str.contains('voIPGeneratedThroughput')]\n",
    "    \n",
    "    macDelayUl = mac_car.loc[mac_car.name.str.contains('macDelayUl')]\n",
    "    \n",
    "#     if measuredSinrUl.empty or measuredSinrDl.empty or rcvdSinrUl.empty or rcvdSinrDl.empty or averageCqiUl.empty or averageCqiDl.empty:\n",
    "#         continue\n",
    "    \n",
    "    \n",
    "    # mobility data is recorded with longer interval, therefore they need to be\n",
    "    # interpolated with network data\n",
    "    measuredSinrUl = interpolate_dataframe(timeStep, measuredSinrUl)\n",
    "    measuredSinrDl = interpolate_dataframe(timeStep, measuredSinrDl)\n",
    "    rcvdSinrUl = interpolate_dataframe(timeStep, rcvdSinrUl)\n",
    "    rcvdSinrDl = interpolate_dataframe(timeStep, rcvdSinrDl)\n",
    "    averageCqiUl = interpolate_dataframe(timeStep, averageCqiUl)\n",
    "    averageCqiDl = interpolate_dataframe(timeStep, averageCqiDl)\n",
    "    servingCell = interpolate_dataframe(timeStep, servingCell)\n",
    "    distance = interpolate_dataframe(timeStep, distance)\n",
    "    voIPGeneratedThroughput = interpolate_dataframe(timeStep, voIPGeneratedThroughput)\n",
    "    macDelayUl = interpolate_dataframe(timeStep, macDelayUl)\n",
    "    \n",
    "    \n",
    "    \n",
    "    new_df = pd.DataFrame(columns = [\n",
    "        'timeStep', 'vehId', \n",
    "        'lastPosX', 'lastPosY', 'lastVelocity', 'lastOrientation', 'distance',\n",
    "        'measuredSinrUl', 'measuredSinrDl', 'rcvdSinrUl', 'rcvdSinrDl',\n",
    "        'averageCqiUl', 'averageCqiDl', 'servingCell',\n",
    "        'voIPGeneratedThroughput',\n",
    "        'macDelayUl'\n",
    "    ])\n",
    "    \n",
    "    new_df['timeStep'] = timeStep\n",
    "    new_df['vehId'] = vehId\n",
    "    new_df['lastPosX'] = lastPosX.vecvalue.values[0]\n",
    "    new_df['lastPosY'] = lastPosY.vecvalue.values[0]\n",
    "    new_df['lastVelocity'] = lastVelocity.vecvalue.values[0]\n",
    "    new_df['lastOrientation'] = lastOrientation.vecvalue.values[0]\n",
    "    \n",
    "    if not measuredSinrUl.empty:\n",
    "        new_df['measuredSinrUl'] = measuredSinrUl.vecvalue.values[0]\n",
    "    if not measuredSinrDl.empty:\n",
    "        new_df['measuredSinrDl'] = measuredSinrDl.vecvalue.values[0]\n",
    "    if not rcvdSinrUl.empty:        \n",
    "        new_df['rcvdSinrUl'] = rcvdSinrUl.vecvalue.values[0]\n",
    "    if not rcvdSinrDl.empty:\n",
    "        new_df['rcvdSinrDl'] = rcvdSinrDl.vecvalue.values[0]\n",
    "    if not distance.empty:\n",
    "        new_df['distance'] = distance.vecvalue.values[0]\n",
    "    if not averageCqiUl.empty:    \n",
    "        new_df['averageCqiUl'] = averageCqiUl.vecvalue.values[0]\n",
    "    if not averageCqiDl.empty:    \n",
    "        new_df['averageCqiDl'] = averageCqiDl.vecvalue.values[0]\n",
    "    if not servingCell.empty:    \n",
    "        new_df['servingCell'] = servingCell.vecvalue.values[0]\n",
    "    if not voIPGeneratedThroughput.empty:\n",
    "        new_df['voIPGeneratedThroughput'] = voIPGeneratedThroughput.vecvalue.values[0]\n",
    "    if not macDelayUl.empty:\n",
    "        new_df['macDelayUl'] = macDelayUl.vecvalue.values[0]\n",
    "    \n",
    "    df = pd.concat([df, new_df])"
   ]
  },
  {
   "cell_type": "code",
   "execution_count": 13,
   "metadata": {},
   "outputs": [],
   "source": [
    "df.to_csv('dataset_VoIP-UL_car_high_traffic_' + date.today().strftime(\"%Y%m%d\") +'.csv')"
   ]
  },
  {
   "cell_type": "code",
   "execution_count": null,
   "metadata": {},
   "outputs": [],
   "source": []
  },
  {
   "cell_type": "code",
   "execution_count": null,
   "metadata": {},
   "outputs": [],
   "source": []
  },
  {
   "cell_type": "code",
   "execution_count": null,
   "metadata": {},
   "outputs": [],
   "source": []
  },
  {
   "cell_type": "code",
   "execution_count": null,
   "metadata": {},
   "outputs": [],
   "source": []
  },
  {
   "cell_type": "code",
   "execution_count": null,
   "metadata": {},
   "outputs": [],
   "source": []
  },
  {
   "cell_type": "code",
   "execution_count": null,
   "metadata": {},
   "outputs": [],
   "source": []
  },
  {
   "cell_type": "code",
   "execution_count": 64,
   "metadata": {
    "scrolled": true
   },
   "outputs": [
    {
     "data": {
      "text/plain": [
       "array(['THOSA_Highway.gNodeB1.udp',\n",
       "       'THOSA_Highway.gNodeB1.cellularNic.mac',\n",
       "       'THOSA_Highway.gNodeB1.cellularNic.rlc.um',\n",
       "       'THOSA_Highway.gNodeB1.cellularNic.pdcpRrc',\n",
       "       'THOSA_Highway.gNodeB1.pppIf.queue',\n",
       "       'THOSA_Highway.gNodeB1.pppIf.ppp', 'THOSA_Highway.gNodeB1.sctp',\n",
       "       'THOSA_Highway.gNodeB1.x2ppp[0].queue',\n",
       "       'THOSA_Highway.gNodeB1.x2ppp[0].ppp',\n",
       "       'THOSA_Highway.gNodeB1.x2App[0].client'], dtype=object)"
      ]
     },
     "execution_count": 64,
     "metadata": {},
     "output_type": "execute_result"
    }
   ],
   "source": [
    "gnodeb1.module.unique()"
   ]
  },
  {
   "cell_type": "code",
   "execution_count": 65,
   "metadata": {
    "scrolled": true
   },
   "outputs": [
    {
     "data": {
      "text/plain": [
       "array(['passedUpPk:vector(count)', 'droppedPkWrongPort:vector(count)',\n",
       "       'droppedPkBadChecksum:vector(count)', 'avgServedBlocksUl:vector',\n",
       "       'avgServedBlocksDl:vector',\n",
       "       'sentPacketToLowerLayer:vector(packetBytes)',\n",
       "       'sentPacketToUpperLayer:vector(packetBytes)',\n",
       "       'receivedPacketFromLowerLayer:vector(packetBytes)',\n",
       "       'packetSent:vector(packetBytes)', 'incomingPacketLengths:vector',\n",
       "       'incomingDataRate:vector', 'queueingTime:vector',\n",
       "       'outgoingPacketLengths:vector', 'outgoingDataRate:vector',\n",
       "       'transmissionState:vector', 'txPk:vector(packetBytes)',\n",
       "       'queueLength:vector', 'queueBitLength:vector',\n",
       "       'rxPkOk:vector(packetBytes)', 'passedUpPk:vector(packetBytes)',\n",
       "       'packetReceived:vector(packetBytes)',\n",
       "       'receivedPacketFromUpperLayer:vector(packetBytes)',\n",
       "       'rlcPacketLossDl:vector', 'macDelayDl:vector',\n",
       "       'SendQueue of Association 36', 'TSN Sent 36:192.168.4.2',\n",
       "       'Outstanding Bytes 36:192.168.4.2', 'Outstanding Bytes 33:Total',\n",
       "       'Queued Sent Bytes 36:192.168.4.2', 'Queued Sent Bytes 33:Total',\n",
       "       'Throughput of Association 33',\n",
       "       'Number of Gap Blocks in Last SACK of Association 36',\n",
       "       'Number of Revokable Gap Blocks in SACK 33',\n",
       "       'Number of Non-Revokable Gap Blocks in SACK 33',\n",
       "       'TSN Acked CumAck 36:192.168.4.2', 'RTO 36:192.168.4.2',\n",
       "       'RTT 36:192.168.4.2',\n",
       "       'Number of Gap Acked Chunks in Last SACK 36:10.0.0.2',\n",
       "       'Number of Non-Revokable Gap Acked Chunks in Last SACK 36:10.0.0.2',\n",
       "       'Number of Gap Missed Chunks in Last SACK 36:10.0.0.2',\n",
       "       'Number of Gap Acked Chunks in Last SACK 36:192.168.3.2',\n",
       "       'Number of Non-Revokable Gap Acked Chunks in Last SACK 36:192.168.3.2',\n",
       "       'Number of Gap Missed Chunks in Last SACK 36:192.168.3.2',\n",
       "       'Number of Gap Acked Chunks in Last SACK 36:192.168.4.2',\n",
       "       'Number of Non-Revokable Gap Acked Chunks in Last SACK 36:192.168.4.2',\n",
       "       'Number of Gap Missed Chunks in Last SACK 36:192.168.4.2',\n",
       "       'Number of Gap Acked Chunks in Last SACK 36:192.168.6.1',\n",
       "       'Number of Non-Revokable Gap Acked Chunks in Last SACK 36:192.168.6.1',\n",
       "       'Number of Gap Missed Chunks in Last SACK 36:192.168.6.1',\n",
       "       'Arwnd in Last SACK 33', 'Peer Rwnd 33',\n",
       "       'TSN PseudoCumAck 36:192.168.4.2',\n",
       "       'TSN RTXPseudoCumAck 36:192.168.4.2',\n",
       "       'Partial Bytes Acked 36:192.168.4.2',\n",
       "       'Throughput of Association 14', 'TSN Received 14:192.168.4.2',\n",
       "       'Stream 0 Throughput', 'Queued Received Bytes 14:Total',\n",
       "       'Advertised Receiver Window 14',\n",
       "       'Number of Total Gap Blocks Stored 14',\n",
       "       'Number of Revokable Gap Blocks Stored 14',\n",
       "       'Number of Non-Revokable Gap Blocks Stored 14',\n",
       "       'Number of Duplicate TSNs Stored 14', 'Length of SACK Sent 14',\n",
       "       'Number of Revokable Gap Blocks Sent 14',\n",
       "       'Number of Non-Revokable Gap Blocks Sent 14',\n",
       "       'Number of Duplicate TSNs Sent 14',\n",
       "       'End to End Delay of Association 14',\n",
       "       'Slow Start Threshold 36:192.168.4.2',\n",
       "       'Congestion Window 36:192.168.4.2', 'Bandwidth 36:192.168.4.2'],\n",
       "      dtype=object)"
      ]
     },
     "execution_count": 65,
     "metadata": {},
     "output_type": "execute_result"
    }
   ],
   "source": [
    "gnodeb1.name.unique()"
   ]
  },
  {
   "cell_type": "code",
   "execution_count": 159,
   "metadata": {},
   "outputs": [
    {
     "data": {
      "text/html": [
       "<div>\n",
       "<style scoped>\n",
       "    .dataframe tbody tr th:only-of-type {\n",
       "        vertical-align: middle;\n",
       "    }\n",
       "\n",
       "    .dataframe tbody tr th {\n",
       "        vertical-align: top;\n",
       "    }\n",
       "\n",
       "    .dataframe thead th {\n",
       "        text-align: right;\n",
       "    }\n",
       "</style>\n",
       "<table border=\"1\" class=\"dataframe\">\n",
       "  <thead>\n",
       "    <tr style=\"text-align: right;\">\n",
       "      <th></th>\n",
       "      <th>run</th>\n",
       "      <th>type</th>\n",
       "      <th>module</th>\n",
       "      <th>name</th>\n",
       "      <th>attrname</th>\n",
       "      <th>attrvalue</th>\n",
       "      <th>vectime</th>\n",
       "      <th>vecvalue</th>\n",
       "    </tr>\n",
       "  </thead>\n",
       "  <tbody>\n",
       "    <tr>\n",
       "      <th>2713</th>\n",
       "      <td>VoIP-UL-0-20220920-10:27:10-232583</td>\n",
       "      <td>vector</td>\n",
       "      <td>THOSA_Highway.gNodeB1.cellularNic.mac</td>\n",
       "      <td>macDelayDl:vector</td>\n",
       "      <td>NaN</td>\n",
       "      <td>None</td>\n",
       "      <td>[59.62, 59.639, 59.659, 59.679, 59.699, 59.719...</td>\n",
       "      <td>[0.004, 0.004, 0.004, 0.004, 0.004, 0.004, 0.0...</td>\n",
       "    </tr>\n",
       "  </tbody>\n",
       "</table>\n",
       "</div>"
      ],
      "text/plain": [
       "                                     run    type  \\\n",
       "2713  VoIP-UL-0-20220920-10:27:10-232583  vector   \n",
       "\n",
       "                                     module               name attrname  \\\n",
       "2713  THOSA_Highway.gNodeB1.cellularNic.mac  macDelayDl:vector      NaN   \n",
       "\n",
       "     attrvalue                                            vectime  \\\n",
       "2713      None  [59.62, 59.639, 59.659, 59.679, 59.699, 59.719...   \n",
       "\n",
       "                                               vecvalue  \n",
       "2713  [0.004, 0.004, 0.004, 0.004, 0.004, 0.004, 0.0...  "
      ]
     },
     "execution_count": 159,
     "metadata": {},
     "output_type": "execute_result"
    }
   ],
   "source": [
    "gnodeb1.loc[gnodeb1.name.str.contains('macDelayDl')]"
   ]
  },
  {
   "cell_type": "code",
   "execution_count": 171,
   "metadata": {},
   "outputs": [
    {
     "data": {
      "text/html": [
       "<div>\n",
       "<style scoped>\n",
       "    .dataframe tbody tr th:only-of-type {\n",
       "        vertical-align: middle;\n",
       "    }\n",
       "\n",
       "    .dataframe tbody tr th {\n",
       "        vertical-align: top;\n",
       "    }\n",
       "\n",
       "    .dataframe thead th {\n",
       "        text-align: right;\n",
       "    }\n",
       "</style>\n",
       "<table border=\"1\" class=\"dataframe\">\n",
       "  <thead>\n",
       "    <tr style=\"text-align: right;\">\n",
       "      <th></th>\n",
       "      <th>run</th>\n",
       "      <th>type</th>\n",
       "      <th>module</th>\n",
       "      <th>name</th>\n",
       "      <th>attrname</th>\n",
       "      <th>attrvalue</th>\n",
       "      <th>vectime</th>\n",
       "      <th>vecvalue</th>\n",
       "    </tr>\n",
       "  </thead>\n",
       "  <tbody>\n",
       "    <tr>\n",
       "      <th>4895</th>\n",
       "      <td>VoIP-UL-0-20220920-16:28:24-248526</td>\n",
       "      <td>vector</td>\n",
       "      <td>THOSA_Highway.gNodeB1.pppIf.queue</td>\n",
       "      <td>incomingDataRate:vector</td>\n",
       "      <td>NaN</td>\n",
       "      <td>None</td>\n",
       "      <td>[0.1, 0.2, 0.3, 0.4, 0.5, 0.6, 0.7, 0.8, 0.9, ...</td>\n",
       "      <td>[0.0, 0.0, 0.0, 0.0, 0.0, 0.0, 0.0, 0.0, 0.0, ...</td>\n",
       "    </tr>\n",
       "    <tr>\n",
       "      <th>4944</th>\n",
       "      <td>VoIP-UL-0-20220920-16:28:24-248526</td>\n",
       "      <td>vector</td>\n",
       "      <td>THOSA_Highway.gNodeB1.pppMEHostIf.queue</td>\n",
       "      <td>incomingDataRate:vector</td>\n",
       "      <td>NaN</td>\n",
       "      <td>None</td>\n",
       "      <td>[0.1, 0.2, 0.3, 0.4, 0.5, 0.6, 0.7, 0.8, 0.9, ...</td>\n",
       "      <td>[0.0, 0.0, 0.0, 0.0, 0.0, 0.0, 0.0, 0.0, 0.0, ...</td>\n",
       "    </tr>\n",
       "    <tr>\n",
       "      <th>5078</th>\n",
       "      <td>VoIP-UL-0-20220920-16:28:24-248526</td>\n",
       "      <td>vector</td>\n",
       "      <td>THOSA_Highway.gNodeB1.x2ppp[0].queue</td>\n",
       "      <td>incomingDataRate:vector</td>\n",
       "      <td>NaN</td>\n",
       "      <td>None</td>\n",
       "      <td>[0.1, 0.2, 0.3, 0.4, 0.5, 0.6, 0.7, 0.8, 0.9, ...</td>\n",
       "      <td>[33280.0, 0.0, 0.0, 0.0, 0.0, 0.0, 0.0, 0.0, 0...</td>\n",
       "    </tr>\n",
       "  </tbody>\n",
       "</table>\n",
       "</div>"
      ],
      "text/plain": [
       "                                     run    type  \\\n",
       "4895  VoIP-UL-0-20220920-16:28:24-248526  vector   \n",
       "4944  VoIP-UL-0-20220920-16:28:24-248526  vector   \n",
       "5078  VoIP-UL-0-20220920-16:28:24-248526  vector   \n",
       "\n",
       "                                       module                     name  \\\n",
       "4895        THOSA_Highway.gNodeB1.pppIf.queue  incomingDataRate:vector   \n",
       "4944  THOSA_Highway.gNodeB1.pppMEHostIf.queue  incomingDataRate:vector   \n",
       "5078     THOSA_Highway.gNodeB1.x2ppp[0].queue  incomingDataRate:vector   \n",
       "\n",
       "     attrname attrvalue                                            vectime  \\\n",
       "4895      NaN      None  [0.1, 0.2, 0.3, 0.4, 0.5, 0.6, 0.7, 0.8, 0.9, ...   \n",
       "4944      NaN      None  [0.1, 0.2, 0.3, 0.4, 0.5, 0.6, 0.7, 0.8, 0.9, ...   \n",
       "5078      NaN      None  [0.1, 0.2, 0.3, 0.4, 0.5, 0.6, 0.7, 0.8, 0.9, ...   \n",
       "\n",
       "                                               vecvalue  \n",
       "4895  [0.0, 0.0, 0.0, 0.0, 0.0, 0.0, 0.0, 0.0, 0.0, ...  \n",
       "4944  [0.0, 0.0, 0.0, 0.0, 0.0, 0.0, 0.0, 0.0, 0.0, ...  \n",
       "5078  [33280.0, 0.0, 0.0, 0.0, 0.0, 0.0, 0.0, 0.0, 0...  "
      ]
     },
     "execution_count": 171,
     "metadata": {},
     "output_type": "execute_result"
    }
   ],
   "source": [
    "gnodeb1.loc[gnodeb1.name.str.contains('incomingDataRate')]"
   ]
  },
  {
   "cell_type": "code",
   "execution_count": 173,
   "metadata": {},
   "outputs": [
    {
     "data": {
      "text/html": [
       "<div>\n",
       "<style scoped>\n",
       "    .dataframe tbody tr th:only-of-type {\n",
       "        vertical-align: middle;\n",
       "    }\n",
       "\n",
       "    .dataframe tbody tr th {\n",
       "        vertical-align: top;\n",
       "    }\n",
       "\n",
       "    .dataframe thead th {\n",
       "        text-align: right;\n",
       "    }\n",
       "</style>\n",
       "<table border=\"1\" class=\"dataframe\">\n",
       "  <thead>\n",
       "    <tr style=\"text-align: right;\">\n",
       "      <th></th>\n",
       "      <th>run</th>\n",
       "      <th>type</th>\n",
       "      <th>module</th>\n",
       "      <th>name</th>\n",
       "      <th>attrname</th>\n",
       "      <th>attrvalue</th>\n",
       "      <th>vectime</th>\n",
       "      <th>vecvalue</th>\n",
       "    </tr>\n",
       "  </thead>\n",
       "  <tbody>\n",
       "    <tr>\n",
       "      <th>4950</th>\n",
       "      <td>VoIP-UL-0-20220920-16:28:24-248526</td>\n",
       "      <td>vector</td>\n",
       "      <td>THOSA_Highway.gNodeB1.sctp</td>\n",
       "      <td>Throughput of Association 33</td>\n",
       "      <td>NaN</td>\n",
       "      <td>None</td>\n",
       "      <td>[0.0]</td>\n",
       "      <td>[0.0]</td>\n",
       "    </tr>\n",
       "    <tr>\n",
       "      <th>4951</th>\n",
       "      <td>VoIP-UL-0-20220920-16:28:24-248526</td>\n",
       "      <td>vector</td>\n",
       "      <td>THOSA_Highway.gNodeB1.sctp</td>\n",
       "      <td>Throughput of Association 14</td>\n",
       "      <td>NaN</td>\n",
       "      <td>None</td>\n",
       "      <td>[0.0]</td>\n",
       "      <td>[0.0]</td>\n",
       "    </tr>\n",
       "    <tr>\n",
       "      <th>4953</th>\n",
       "      <td>VoIP-UL-0-20220920-16:28:24-248526</td>\n",
       "      <td>vector</td>\n",
       "      <td>THOSA_Highway.gNodeB1.sctp</td>\n",
       "      <td>Throughput of Association 33</td>\n",
       "      <td>NaN</td>\n",
       "      <td>None</td>\n",
       "      <td>[1.292e-07]</td>\n",
       "      <td>[0.0]</td>\n",
       "    </tr>\n",
       "  </tbody>\n",
       "</table>\n",
       "</div>"
      ],
      "text/plain": [
       "                                     run    type                      module  \\\n",
       "4950  VoIP-UL-0-20220920-16:28:24-248526  vector  THOSA_Highway.gNodeB1.sctp   \n",
       "4951  VoIP-UL-0-20220920-16:28:24-248526  vector  THOSA_Highway.gNodeB1.sctp   \n",
       "4953  VoIP-UL-0-20220920-16:28:24-248526  vector  THOSA_Highway.gNodeB1.sctp   \n",
       "\n",
       "                              name attrname attrvalue      vectime vecvalue  \n",
       "4950  Throughput of Association 33      NaN      None        [0.0]    [0.0]  \n",
       "4951  Throughput of Association 14      NaN      None        [0.0]    [0.0]  \n",
       "4953  Throughput of Association 33      NaN      None  [1.292e-07]    [0.0]  "
      ]
     },
     "execution_count": 173,
     "metadata": {},
     "output_type": "execute_result"
    }
   ],
   "source": [
    "gnodeb1.loc[gnodeb1.name.str.contains('Throughput')]"
   ]
  },
  {
   "cell_type": "code",
   "execution_count": null,
   "metadata": {},
   "outputs": [],
   "source": []
  },
  {
   "cell_type": "code",
   "execution_count": 85,
   "metadata": {},
   "outputs": [],
   "source": [
    "################ for gNodeB #######################"
   ]
  },
  {
   "cell_type": "code",
   "execution_count": null,
   "metadata": {},
   "outputs": [],
   "source": [
    "gNodeB = vec.loc[vec.module.str.contains('THOSA_Highway.gNodeB')]"
   ]
  },
  {
   "cell_type": "code",
   "execution_count": null,
   "metadata": {},
   "outputs": [],
   "source": [
    "mac = gNodeB.loc[gNodeB.module.str.contains('mac')]\n",
    "pppIf = gNodeB.loc[gNodeB.module.str.contains('pppIf')]"
   ]
  },
  {
   "cell_type": "code",
   "execution_count": 88,
   "metadata": {},
   "outputs": [],
   "source": [
    "for n in range(mac.shape[0]):\n",
    "    if mac.iloc[n].vectime.size <= 1:\n",
    "        mac.iloc[n].vecvalue = np.nan\n",
    "\n",
    "for n in range(pppIf.shape[0]):\n",
    "    if pppIf.iloc[n].vectime.size <= 1:\n",
    "        pppIf.iloc[n].vecvalue = np.nan"
   ]
  },
  {
   "cell_type": "code",
   "execution_count": 89,
   "metadata": {},
   "outputs": [],
   "source": [
    "mac = mac.dropna(subset=['vecvalue'])\n",
    "pppIf = pppIf.dropna(subset=['vecvalue'])"
   ]
  },
  {
   "cell_type": "code",
   "execution_count": 90,
   "metadata": {},
   "outputs": [],
   "source": [
    "numGNodeB = 2"
   ]
  },
  {
   "cell_type": "code",
   "execution_count": 91,
   "metadata": {},
   "outputs": [],
   "source": [
    "gNodeB_pos = [[500, 500], [4500, -500]]"
   ]
  },
  {
   "cell_type": "code",
   "execution_count": null,
   "metadata": {},
   "outputs": [],
   "source": []
  },
  {
   "cell_type": "code",
   "execution_count": null,
   "metadata": {},
   "outputs": [],
   "source": []
  },
  {
   "cell_type": "code",
   "execution_count": 92,
   "metadata": {},
   "outputs": [
    {
     "name": "stderr",
     "output_type": "stream",
     "text": [
      "/home/anjie/anaconda3/lib/python3.7/site-packages/ipykernel_launcher.py:59: SettingWithCopyWarning: \n",
      "A value is trying to be set on a copy of a slice from a DataFrame\n",
      "\n",
      "See the caveats in the documentation: https://pandas.pydata.org/pandas-docs/stable/user_guide/indexing.html#returning-a-view-versus-a-copy\n"
     ]
    }
   ],
   "source": [
    "# create an empty dataframe\n",
    "df = pd.DataFrame(columns = [\n",
    "        'timeStep', 'gNodeBId', \n",
    "        'lastPosX', 'lastPosY',\n",
    "        'avgServedBlocksUl', 'avgServedBlocksDl', 'macDelayDl',\n",
    "        'incomingDataRate', 'outgoingDataRate'\n",
    "    ])\n",
    "\n",
    "for gNodeB_id in range(numGNodeB):\n",
    "    mac_gNodeB = mac.loc[mac.module.str.contains('gNodeB' + str(gNodeB_id+1))]\n",
    "    pppIf_gNodeB = pppIf.loc[pppIf.module.str.contains('gNodeB' + str(gNodeB_id+1))]\n",
    "    \n",
    "    gNodeBId = gNodeB_id + 1\n",
    "    \n",
    "    lastPosX = gNodeB_pos[0][0]\n",
    "    lastPosY = gNodeB_pos[0][1]\n",
    "    \n",
    "    avgServedBlocksUl = mac_gNodeB.loc[mac_gNodeB.name.str.contains('avgServedBlocksUl')]\n",
    "    avgServedBlocksDl = mac_gNodeB.loc[mac_gNodeB.name.str.contains('avgServedBlocksDl')]\n",
    "\n",
    "    macDelayDl = mac_gNodeB.loc[mac_gNodeB.name.str.contains('macDelayDl')]\n",
    "        \n",
    "    incomingDataRate = pppIf_gNodeB.loc[pppIf_gNodeB.name.str.contains('incomingDataRate')]\n",
    "    outgoingDataRate = pppIf_gNodeB.loc[pppIf_gNodeB.name.str.contains('incomingDataRate')]\n",
    "    \n",
    "    # mobility data is recorded with longer interval, therefore they need to be\n",
    "    # interpolated with network data\n",
    "    \n",
    "    timeStep = avgServedBlocksDl.vectime.values[0]\n",
    "    incomingDataRate = interpolate_dataframe(timeStep, incomingDataRate)\n",
    "    outgoingDataRate = interpolate_dataframe(timeStep, outgoingDataRate)\n",
    "    \n",
    "    macDelayDl = interpolate_dataframe(timeStep, outgoingDataRate)\n",
    "    \n",
    "    new_df = pd.DataFrame(columns = [\n",
    "        'timeStep', 'gNodeBId', \n",
    "        'lastPosX', 'lastPosY',\n",
    "        'avgServedBlocksUl', 'avgServedBlocksDl', 'macDelayDl',\n",
    "        'incomingDataRate', 'outgoingDataRate'\n",
    "    ])\n",
    "    \n",
    "    new_df['timeStep'] = timeStep\n",
    "    new_df['gNodeBId'] = gNodeBId\n",
    "    new_df['lastPosX'] = lastPosX\n",
    "    new_df['lastPosY'] = lastPosY\n",
    "    \n",
    "    if not avgServedBlocksUl.empty:\n",
    "        new_df['avgServedBlocksUl'] = avgServedBlocksUl.vecvalue.values[0]\n",
    "        new_df['avgServedBlocksDl'] = avgServedBlocksDl.vecvalue.values[0]\n",
    "        \n",
    "    if not incomingDataRate.empty:\n",
    "        new_df['incomingDataRate'] = incomingDataRate.vecvalue.values[0]\n",
    "        new_df['outgoingDataRate'] = outgoingDataRate.vecvalue.values[0]\n",
    "        \n",
    "    if not macDelayDl.empty:\n",
    "        new_df['macDelayDl'] = macDelayDl.vecvalue.values[0]\n",
    "            \n",
    "            \n",
    "    new_df.macDelayDl[new_df['macDelayDl'] == 0] = np.nan\n",
    "    \n",
    "    df = pd.concat([df, new_df])\n",
    "    \n",
    "\n",
    "\n"
   ]
  },
  {
   "cell_type": "code",
   "execution_count": 14,
   "metadata": {},
   "outputs": [],
   "source": [
    "df.to_csv('dataset_VoIP-UL_gNodeB_high_traffic_' + date.today().strftime(\"%Y%m%d\") +'.csv')"
   ]
  },
  {
   "cell_type": "code",
   "execution_count": null,
   "metadata": {},
   "outputs": [],
   "source": []
  }
 ],
 "metadata": {
  "kernelspec": {
   "display_name": "Python 3",
   "language": "python",
   "name": "python3"
  },
  "language_info": {
   "codemirror_mode": {
    "name": "ipython",
    "version": 3
   },
   "file_extension": ".py",
   "mimetype": "text/x-python",
   "name": "python",
   "nbconvert_exporter": "python",
   "pygments_lexer": "ipython3",
   "version": "3.7.6"
  }
 },
 "nbformat": 4,
 "nbformat_minor": 4
}
